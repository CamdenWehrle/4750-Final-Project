{
 "cells": [
  {
   "cell_type": "code",
   "execution_count": 1,
   "id": "2f1f0688",
   "metadata": {},
   "outputs": [
    {
     "name": "stderr",
     "output_type": "stream",
     "text": [
      "\u001b[32m\u001b[1m  Activating\u001b[22m\u001b[39m project at `c:\\Users\\13158\\Downloads`\n",
      "\u001b[32m\u001b[1m   Resolving\u001b[22m\u001b[39m package versions...\n",
      "\u001b[32m\u001b[1m  No Changes\u001b[22m\u001b[39m to `C:\\Users\\13158\\Downloads\\Project.toml`\n",
      "\u001b[32m\u001b[1m  No Changes\u001b[22m\u001b[39m to `C:\\Users\\13158\\Downloads\\Manifest.toml`\n",
      "\u001b[32m\u001b[1m   Resolving\u001b[22m\u001b[39m package versions...\n",
      "\u001b[32m\u001b[1m  No Changes\u001b[22m\u001b[39m to `C:\\Users\\13158\\Downloads\\Project.toml`\n",
      "\u001b[32m\u001b[1m  No Changes\u001b[22m\u001b[39m to `C:\\Users\\13158\\Downloads\\Manifest.toml`\n"
     ]
    }
   ],
   "source": [
    "import Pkg\n",
    "Pkg.activate(@__DIR__)\n",
    "Pkg.instantiate()\n",
    "Pkg.add(\"Statistics\")\n",
    "Pkg.add(\"Plots\")\n",
    "using Plots\n",
    "using Statistics"
   ]
  },
  {
   "cell_type": "code",
   "execution_count": null,
   "id": "dac1e6d3",
   "metadata": {},
   "outputs": [
    {
     "name": "stdout",
     "output_type": "stream",
     "text": [
      "18.40137403565402318.0901286202844833.9381370207891418.587491067169672"
     ]
    }
   ],
   "source": [
    "\n",
    "#Define parameters of the design\n",
    "area = 13950 #square feet\n",
    "phos_limit = 40 #lbs/day\n",
    "bod_limit = 2502 #lbs/day\n",
    "flow_rate = 6.5/4 #MGD Four tanks\n",
    "flow_liter = flow_rate*4404883.8\n",
    "phos_influent = 7 #mg/liter\n",
    "bod_influent = 300 #mg/liter\n",
    "tank_depth = 12 #ft\n",
    "tank_volume = area*tank_depth #cubic feet\n",
    "volume_mg = tank_volume * 7.48/4 #million gallons\n",
    "Y =.5 #Bacteria synthesis yield (standard value)\n",
    "b = .08 #Endogenous decay coefficient (standard value)\n",
    "\n",
    "\n",
    "#Compute an estimate for the maximum SRT allowable for \n",
    "#The area given for the tanks\n",
    "was_rate = volume_mg/39.5 #gallons/day\n",
    "was_conc = 4000 # mg/liter\n",
    "mlss = 3500*8.34 #mg/liter\n",
    "max_srt = round(volume_mg/((was_conc*was_rate*8.34)/mlss))\n",
    "max_srt = Int(max_srt)\n",
    "\n",
    "#Store the average and maximum phosphorus and BOD concentration\n",
    "#For each SRT to determine efficacy of treatment at that SRT\n",
    "max_phos = zeros(max_srt)\n",
    "max_bod = zeros(max_srt)\n",
    "avg_phos = zeros(max_srt)\n",
    "avg_bod = zeros(max_srt)\n",
    "\n",
    "#Test system over a variety of different \n",
    "#phosphorus and BOD values\n",
    "phos_influent = collect(1:15) #mg/L\n",
    "bod_influent = collect(50:50:750) #mg/L\n",
    "srt_array = 1:max_srt\n",
    "\n",
    "#Write a function to compute changes in phosphorus and BOD concentrations\n",
    "#Within the system and return effluent values\n",
    "function conc_change(Y, b, srt, phos_influent, bod_influent, flow_liter)\n",
    "    #Convert BOD to readily biodegradable COD\n",
    "    rbcod = (bod_influent./2).*.2\n",
    "    #Compute phosphorus removal in aeration zone based on PAO\n",
    "    #Growth in anaerobic zone\n",
    "    phos_new = phos_influent .- ((Y./ (1 .+ b.* srt)).* (rbcod.* 0.9).*.4)\n",
    "    #Compute BOD removal in aerobic zone\n",
    "\n",
    "    S = (8*(1+.088*srt))/(srt*(3.5-.088)-1)\n",
    "    So = 1.6 .*bod_influent\n",
    "    bod_new = bod_influent .- (So.-S)./(1 .+ .088 .*srt)\n",
    "    \n",
    "    rbcod_new = (bod_new./2).*.2\n",
    "    #Repeat process for second aeration zone to get effluent concentration values\n",
    "    phos_effluent = phos_new .- ((Y./(1 .+b.*srt).*(rbcod_new.*.9))*.4) \n",
    "    \n",
    "    So = 1.6 .* bod_new\n",
    "    bod_effluent =  3 .+ bod_new .- (So .-S)./(1 .+ .088 .*srt)\n",
    "    \n",
    "\n",
    "    return phos_effluent, bod_effluent\n",
    "\n",
    "end\n",
    "\n",
    "count = 1\n",
    "#Run the function for each SRT value\n",
    "while count <= max_srt -1\n",
    "    srt = srt_array[count]\n",
    "    phos_effluent, bod_effluent = conc_change(Y, b, srt, phos_influent, bod_influent, flow_liter)\n",
    "    max_phos[count] = maximum(phos_effluent)\n",
    "    max_bod[count] = maximum(bod_effluent)\n",
    "    avg_phos[count] = mean(phos_effluent)\n",
    "    avg_bod[count] = mean(bod_effluent)\n",
    "    count = count + 1\n",
    "end\n",
    "\n",
    "\n",
    "\n",
    "#Convert concentrations from mg/L to lbs/day\n",
    "maxphos_lbs = max_phos .* 24605176.596 .* .0000002204623\n",
    "maxbod_lbs = max_bod .* 24605176.596 .* .0000002204623\n",
    "avgphos_lbs = avg_phos .* 24605176.596 .* .0000002204623\n",
    "avgbod_lbs = avg_bod .* 24605176.596 .* .0000002204623\n",
    "\n",
    "#Create a plot\n",
    "p = scatter(srt_array,maxbod_lbs, legend = false)\n",
    "ylabel!(\"Max BOD discharged to lake (lbs/day)\")\n",
    "xlabel!(\"SRT (days)\")\n",
    "\n",
    "#Print values for the optimal SRT\n",
    "print(avgbod_lbs[7])\n",
    "print(avgphos_lbs[7])\n",
    "print(maxphos_lbs[7])\n",
    "print(maxbod_lbs[7])\n"
   ]
  },
  {
   "cell_type": "code",
   "execution_count": 1,
   "id": "2859e366",
   "metadata": {},
   "outputs": [
    {
     "name": "stdout",
     "output_type": "stream",
     "text": [
      "1:345"
     ]
    }
   ],
   "source": [
    "test = 1:34\n",
    "print(test)\n",
    "print(test[5])"
   ]
  }
 ],
 "metadata": {
  "kernel_info": {
   "name": "julia"
  },
  "kernelspec": {
   "display_name": "Julia 1.10.4",
   "language": "julia",
   "name": "julia-1.10"
  },
  "language_info": {
   "file_extension": ".jl",
   "mimetype": "application/julia",
   "name": "julia",
   "version": "1.10.4"
  }
 },
 "nbformat": 4,
 "nbformat_minor": 5
}
